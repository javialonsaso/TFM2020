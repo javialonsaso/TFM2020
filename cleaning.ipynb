{
 "cells": [
  {
   "cell_type": "markdown",
   "metadata": {},
   "source": [
    "# Process data"
   ]
  },
  {
   "cell_type": "markdown",
   "metadata": {},
   "source": [
    "Cargamos las librerías que deseamos usar:"
   ]
  },
  {
   "cell_type": "code",
   "execution_count": 1,
   "metadata": {},
   "outputs": [],
   "source": [
    "import missingno as msno"
   ]
  },
  {
   "cell_type": "code",
   "execution_count": 2,
   "metadata": {},
   "outputs": [],
   "source": [
    "import numpy as np\n",
    "import pandas as pd\n",
    "\n",
    "import matplotlib.pyplot as plt # Para dibujar\n",
    "import matplotlib as mpl\n",
    "from matplotlib.ticker import FuncFormatter # Para cambiar las etiquetas de las gráficas\n",
    "\n",
    "from cycler import cycler # Para elegir ciclos de colores"
   ]
  },
  {
   "cell_type": "code",
   "execution_count": 3,
   "metadata": {},
   "outputs": [],
   "source": [
    "mpl.rcParams['lines.linewidth'] = 3\n",
    "mpl.rcParams['lines.color'] = 'r'\n",
    "mpl.rcParams['lines.antialiased'] = True\n",
    "\n",
    "mpl.rcParams['text.usetex'] = True\n",
    "mpl.rcParams['font.family'] = 'serif'\n",
    "mpl.rcParams['font.size'] = 25\n",
    "\n",
    "mpl.rcParams['axes.linewidth'] = 1.5\n",
    "mpl.rcParams['axes.grid'] = True\n",
    "mpl.rcParams['axes.grid.which'] = 'both'\n",
    "mpl.rcParams['axes.spines.right'] = False\n",
    "mpl.rcParams['axes.spines.top'] = False\n",
    "mpl.rcParams['axes.labelsize'] = 'medium'\n",
    "mpl.rcParams['xtick.labelsize'] = 'small'\n",
    "mpl.rcParams['ytick.labelsize'] = 'small'\n",
    "mpl.rcParams['xtick.minor.visible'] = True\n",
    "mpl.rcParams['ytick.minor.visible'] = True\n",
    "\n",
    "mpl.rcParams['grid.alpha'] = 0.4\n",
    "\n",
    "mpl.rcParams['axes.prop_cycle'] = cycler(color = ['r', 'orangered', 'gold', 'forestgreen', 'royalblue', 'rebeccapurple'])\n",
    "\n",
    "\n",
    "mpl.rcParams['figure.figsize'] = (4,8/3)\n",
    "mpl.rcParams['figure.subplot.wspace'] = 0.2\n",
    "mpl.rcParams['figure.subplot.hspace'] = 0.2\n",
    "mpl.rcParams['figure.autolayout'] = True\n",
    "mpl.rcParams['figure.constrained_layout.use'] = False\n",
    "mpl.rcParams['figure.titlesize'] = 'large'\n",
    "\n",
    "mpl.rcParams['savefig.format'] = 'pdf'\n",
    "mpl.rcParams['ps.fonttype'] = 42\n",
    "mpl.rcParams['pdf.fonttype'] = 42\n",
    "\n",
    "mpl.rcParams['legend.fontsize'] = 'medium'"
   ]
  },
  {
   "cell_type": "markdown",
   "metadata": {},
   "source": [
    "Cargamos los metadatos del conjunto de archivos (contenidos en `metadata.xlsx`), i.e. variables de cada archivo, unidades, fuentes, etc."
   ]
  },
  {
   "cell_type": "code",
   "execution_count": 4,
   "metadata": {},
   "outputs": [],
   "source": [
    "data01 = 'data/data_1/'\n",
    "filename = 'metadata.xlsx'\n",
    "output_file = 'VPQ.csv'\n",
    "fig_dir = '../CIC-doc/doc/figures/'\n",
    "\n",
    "index = pd.read_excel(data01 + filename)"
   ]
  },
  {
   "cell_type": "code",
   "execution_count": 5,
   "metadata": {},
   "outputs": [
    {
     "data": {
      "text/html": [
       "<div>\n",
       "<style scoped>\n",
       "    .dataframe tbody tr th:only-of-type {\n",
       "        vertical-align: middle;\n",
       "    }\n",
       "\n",
       "    .dataframe tbody tr th {\n",
       "        vertical-align: top;\n",
       "    }\n",
       "\n",
       "    .dataframe thead th {\n",
       "        text-align: right;\n",
       "    }\n",
       "</style>\n",
       "<table border=\"1\" class=\"dataframe\">\n",
       "  <thead>\n",
       "    <tr style=\"text-align: right;\">\n",
       "      <th></th>\n",
       "      <th>TAG</th>\n",
       "      <th>Description</th>\n",
       "      <th>Unit</th>\n",
       "      <th>Type</th>\n",
       "      <th>Comments</th>\n",
       "      <th>Source</th>\n",
       "      <th>Explotación</th>\n",
       "      <th>Código Explotación</th>\n",
       "      <th>Nº Estación</th>\n",
       "      <th>Sistema</th>\n",
       "    </tr>\n",
       "  </thead>\n",
       "  <tbody>\n",
       "    <tr>\n",
       "      <th>0</th>\n",
       "      <td>GES450100001N00001</td>\n",
       "      <td>Lect. Horaria Contador Sector Arroyuelo</td>\n",
       "      <td>m³</td>\n",
       "      <td>Analogico</td>\n",
       "      <td>NaN</td>\n",
       "      <td>Madridejos - Sector Arroyuelo y Ayuntamiento</td>\n",
       "      <td>Madridejos</td>\n",
       "      <td>4501</td>\n",
       "      <td>1</td>\n",
       "      <td>PCWIN - Madridejos</td>\n",
       "    </tr>\n",
       "    <tr>\n",
       "      <th>1</th>\n",
       "      <td>GES450100001N00005</td>\n",
       "      <td>Presión Instantánea Sector Arroyuelo</td>\n",
       "      <td>Kg/cm²</td>\n",
       "      <td>Analogico</td>\n",
       "      <td>NaN</td>\n",
       "      <td>Madridejos - Sector Arroyuelo y Ayuntamiento</td>\n",
       "      <td>Madridejos</td>\n",
       "      <td>4501</td>\n",
       "      <td>1</td>\n",
       "      <td>PCWIN - Madridejos</td>\n",
       "    </tr>\n",
       "    <tr>\n",
       "      <th>2</th>\n",
       "      <td>GES450100001N00015</td>\n",
       "      <td>Q Inst. Sector Arroyuelo</td>\n",
       "      <td>m³/h</td>\n",
       "      <td>Analogico</td>\n",
       "      <td>NaN</td>\n",
       "      <td>Madridejos - Sector Arroyuelo y Ayuntamiento</td>\n",
       "      <td>Madridejos</td>\n",
       "      <td>4501</td>\n",
       "      <td>1</td>\n",
       "      <td>PCWIN - Madridejos</td>\n",
       "    </tr>\n",
       "    <tr>\n",
       "      <th>3</th>\n",
       "      <td>GES450100001N00019</td>\n",
       "      <td>Lect. Diaria Contador Sector Arroyuelo</td>\n",
       "      <td>m³</td>\n",
       "      <td>Analogico</td>\n",
       "      <td>NaN</td>\n",
       "      <td>Madridejos - Sector Arroyuelo y Ayuntamiento</td>\n",
       "      <td>Madridejos</td>\n",
       "      <td>4501</td>\n",
       "      <td>1</td>\n",
       "      <td>PCWIN - Madridejos</td>\n",
       "    </tr>\n",
       "    <tr>\n",
       "      <th>4</th>\n",
       "      <td>GES450100001N00023</td>\n",
       "      <td>Producción Diaria Sector Arroyuelo</td>\n",
       "      <td>m³</td>\n",
       "      <td>Analogico</td>\n",
       "      <td>NaN</td>\n",
       "      <td>Madridejos - Sector Arroyuelo y Ayuntamiento</td>\n",
       "      <td>Madridejos</td>\n",
       "      <td>4501</td>\n",
       "      <td>1</td>\n",
       "      <td>PCWIN - Madridejos</td>\n",
       "    </tr>\n",
       "    <tr>\n",
       "      <th>5</th>\n",
       "      <td>GES450100001N00027</td>\n",
       "      <td>Q Mín. Diario Sector Arroyuelo</td>\n",
       "      <td>m³/h</td>\n",
       "      <td>Analogico</td>\n",
       "      <td>NaN</td>\n",
       "      <td>Madridejos - Sector Arroyuelo y Ayuntamiento</td>\n",
       "      <td>Madridejos</td>\n",
       "      <td>4501</td>\n",
       "      <td>1</td>\n",
       "      <td>PCWIN - Madridejos</td>\n",
       "    </tr>\n",
       "    <tr>\n",
       "      <th>6</th>\n",
       "      <td>GES450100001N00031</td>\n",
       "      <td>Q Máx. Diario Sector Arroyuelo</td>\n",
       "      <td>m³/h</td>\n",
       "      <td>Analogico</td>\n",
       "      <td>NaN</td>\n",
       "      <td>Madridejos - Sector Arroyuelo y Ayuntamiento</td>\n",
       "      <td>Madridejos</td>\n",
       "      <td>4501</td>\n",
       "      <td>1</td>\n",
       "      <td>PCWIN - Madridejos</td>\n",
       "    </tr>\n",
       "    <tr>\n",
       "      <th>7</th>\n",
       "      <td>GES450100001N00035</td>\n",
       "      <td>Q Noche Diario Sector Arroyuelo</td>\n",
       "      <td>m³/h</td>\n",
       "      <td>Analogico</td>\n",
       "      <td>NaN</td>\n",
       "      <td>Madridejos - Sector Arroyuelo y Ayuntamiento</td>\n",
       "      <td>Madridejos</td>\n",
       "      <td>4501</td>\n",
       "      <td>1</td>\n",
       "      <td>PCWIN - Madridejos</td>\n",
       "    </tr>\n",
       "  </tbody>\n",
       "</table>\n",
       "</div>"
      ],
      "text/plain": [
       "                  TAG                              Description    Unit  \\\n",
       "0  GES450100001N00001  Lect. Horaria Contador Sector Arroyuelo      m³   \n",
       "1  GES450100001N00005     Presión Instantánea Sector Arroyuelo  Kg/cm²   \n",
       "2  GES450100001N00015                 Q Inst. Sector Arroyuelo    m³/h   \n",
       "3  GES450100001N00019   Lect. Diaria Contador Sector Arroyuelo      m³   \n",
       "4  GES450100001N00023       Producción Diaria Sector Arroyuelo      m³   \n",
       "5  GES450100001N00027           Q Mín. Diario Sector Arroyuelo    m³/h   \n",
       "6  GES450100001N00031           Q Máx. Diario Sector Arroyuelo    m³/h   \n",
       "7  GES450100001N00035          Q Noche Diario Sector Arroyuelo    m³/h   \n",
       "\n",
       "        Type  Comments                                        Source  \\\n",
       "0  Analogico       NaN  Madridejos - Sector Arroyuelo y Ayuntamiento   \n",
       "1  Analogico       NaN  Madridejos - Sector Arroyuelo y Ayuntamiento   \n",
       "2  Analogico       NaN  Madridejos - Sector Arroyuelo y Ayuntamiento   \n",
       "3  Analogico       NaN  Madridejos - Sector Arroyuelo y Ayuntamiento   \n",
       "4  Analogico       NaN  Madridejos - Sector Arroyuelo y Ayuntamiento   \n",
       "5  Analogico       NaN  Madridejos - Sector Arroyuelo y Ayuntamiento   \n",
       "6  Analogico       NaN  Madridejos - Sector Arroyuelo y Ayuntamiento   \n",
       "7  Analogico       NaN  Madridejos - Sector Arroyuelo y Ayuntamiento   \n",
       "\n",
       "  Explotación  Código Explotación  Nº Estación             Sistema  \n",
       "0  Madridejos                4501            1  PCWIN - Madridejos  \n",
       "1  Madridejos                4501            1  PCWIN - Madridejos  \n",
       "2  Madridejos                4501            1  PCWIN - Madridejos  \n",
       "3  Madridejos                4501            1  PCWIN - Madridejos  \n",
       "4  Madridejos                4501            1  PCWIN - Madridejos  \n",
       "5  Madridejos                4501            1  PCWIN - Madridejos  \n",
       "6  Madridejos                4501            1  PCWIN - Madridejos  \n",
       "7  Madridejos                4501            1  PCWIN - Madridejos  "
      ]
     },
     "execution_count": 5,
     "metadata": {},
     "output_type": "execute_result"
    }
   ],
   "source": [
    "index"
   ]
  },
  {
   "cell_type": "markdown",
   "metadata": {},
   "source": [
    "Cambiamos los nombres de las variables de volumen, caudal y presión para mayor claridad en el código:"
   ]
  },
  {
   "cell_type": "code",
   "execution_count": 6,
   "metadata": {},
   "outputs": [],
   "source": [
    "translator = {\n",
    "    'Presión Instantánea Sector Arroyuelo' : 'P',\n",
    "    'Q Inst. Sector Arroyuelo' : 'Q',\n",
    "    'Lect. Horaria Contador Sector Arroyuelo' : 'V'\n",
    "}"
   ]
  },
  {
   "cell_type": "markdown",
   "metadata": {},
   "source": [
    "Transformamos los archivos `csv` en tablas pandas. Esta librería ofrece muchas funcionalidades para trabajar con fechas."
   ]
  },
  {
   "cell_type": "code",
   "execution_count": 7,
   "metadata": {},
   "outputs": [
    {
     "name": "stdout",
     "output_type": "stream",
     "text": [
      "Leyendo archivo: GES450100001N00001.csv\n",
      "Leyendo archivo: GES450100001N00005.csv\n",
      "Leyendo archivo: GES450100001N00015.csv\n",
      "Leyendo archivo: GES450100001N00019.csv\n",
      "Leyendo archivo: GES450100001N00023.csv\n",
      "Leyendo archivo: GES450100001N00027.csv\n",
      "Leyendo archivo: GES450100001N00031.csv\n",
      "Leyendo archivo: GES450100001N00035.csv\n"
     ]
    }
   ],
   "source": [
    "tt = []\n",
    "for i, entry in index.iterrows():\n",
    "    print('Leyendo archivo:', entry['TAG'] + '.csv')\n",
    "    desc = entry['Description']\n",
    "    table = pd.read_csv(data01 + entry['TAG'] + '.csv',\n",
    "                sep = ';',\n",
    "                header = None,\n",
    "                names = ['timestamp', desc, 'Cod_' + desc],\n",
    "                index_col = False,\n",
    "                skiprows = 7,\n",
    "                infer_datetime_format = True,\n",
    "                decimal = ','\n",
    "                ).iloc[:,:-1]\n",
    "    table['timestamp'] = pd.to_datetime(table['timestamp'], format = '%d/%m/%Y %H:%M:%S.%f')\n",
    "    table.set_index(keys = 'timestamp', inplace = True)\n",
    "    tt.append(table)"
   ]
  },
  {
   "cell_type": "markdown",
   "metadata": {},
   "source": [
    "Creamos un índices con todas las variables disponibles con las unidades inclusive."
   ]
  },
  {
   "cell_type": "code",
   "execution_count": 8,
   "metadata": {},
   "outputs": [],
   "source": [
    "dates = pd.date_range(start = tt[0].index.min(), end = tt[0].index.max(), freq = '15T')\n",
    "dates.name = 'timestamp'\n",
    "data = pd.DataFrame(index = dates)\n",
    "\n",
    "for table in tt[1:]:\n",
    "    data = data.merge(table, how = 'outer', left_index = True, right_index = True)\n",
    "    \n",
    "data.rename(columns = translator, inplace = True)\n",
    "micolumns = pd.MultiIndex.from_tuples(list(zip(data.columns.tolist(), index['Unit'])),\n",
    "                                      names=['variable', 'unit'])\n",
    "\n",
    "\n",
    "data.set_axis(micolumns, axis = 1, inplace = True)"
   ]
  },
  {
   "cell_type": "code",
   "execution_count": 9,
   "metadata": {},
   "outputs": [
    {
     "data": {
      "text/html": [
       "<div>\n",
       "<style scoped>\n",
       "    .dataframe tbody tr th:only-of-type {\n",
       "        vertical-align: middle;\n",
       "    }\n",
       "\n",
       "    .dataframe tbody tr th {\n",
       "        vertical-align: top;\n",
       "    }\n",
       "\n",
       "    .dataframe thead tr th {\n",
       "        text-align: left;\n",
       "    }\n",
       "\n",
       "    .dataframe thead tr:last-of-type th {\n",
       "        text-align: right;\n",
       "    }\n",
       "</style>\n",
       "<table border=\"1\" class=\"dataframe\">\n",
       "  <thead>\n",
       "    <tr>\n",
       "      <th>variable</th>\n",
       "      <th>P</th>\n",
       "      <th>Q</th>\n",
       "      <th>Lect. Diaria Contador Sector Arroyuelo</th>\n",
       "      <th>Producción Diaria Sector Arroyuelo</th>\n",
       "      <th>Q Mín. Diario Sector Arroyuelo</th>\n",
       "      <th>Q Máx. Diario Sector Arroyuelo</th>\n",
       "      <th>Q Noche Diario Sector Arroyuelo</th>\n",
       "    </tr>\n",
       "    <tr>\n",
       "      <th>unit</th>\n",
       "      <th>m³</th>\n",
       "      <th>Kg/cm²</th>\n",
       "      <th>m³/h</th>\n",
       "      <th>m³</th>\n",
       "      <th>m³</th>\n",
       "      <th>m³/h</th>\n",
       "      <th>m³/h</th>\n",
       "    </tr>\n",
       "    <tr>\n",
       "      <th>timestamp</th>\n",
       "      <th></th>\n",
       "      <th></th>\n",
       "      <th></th>\n",
       "      <th></th>\n",
       "      <th></th>\n",
       "      <th></th>\n",
       "      <th></th>\n",
       "    </tr>\n",
       "  </thead>\n",
       "  <tbody>\n",
       "    <tr>\n",
       "      <th>2014-03-27 08:15:00</th>\n",
       "      <td>3.524071</td>\n",
       "      <td>17.92</td>\n",
       "      <td>NaN</td>\n",
       "      <td>NaN</td>\n",
       "      <td>NaN</td>\n",
       "      <td>NaN</td>\n",
       "      <td>NaN</td>\n",
       "    </tr>\n",
       "    <tr>\n",
       "      <th>2014-03-27 08:30:00</th>\n",
       "      <td>3.485924</td>\n",
       "      <td>22.08</td>\n",
       "      <td>NaN</td>\n",
       "      <td>NaN</td>\n",
       "      <td>NaN</td>\n",
       "      <td>NaN</td>\n",
       "      <td>NaN</td>\n",
       "    </tr>\n",
       "    <tr>\n",
       "      <th>2014-03-27 08:45:00</th>\n",
       "      <td>3.485924</td>\n",
       "      <td>23.16</td>\n",
       "      <td>NaN</td>\n",
       "      <td>NaN</td>\n",
       "      <td>NaN</td>\n",
       "      <td>NaN</td>\n",
       "      <td>NaN</td>\n",
       "    </tr>\n",
       "  </tbody>\n",
       "</table>\n",
       "</div>"
      ],
      "text/plain": [
       "variable                    P      Q Lect. Diaria Contador Sector Arroyuelo  \\\n",
       "unit                       m³ Kg/cm²                                   m³/h   \n",
       "timestamp                                                                     \n",
       "2014-03-27 08:15:00  3.524071  17.92                                    NaN   \n",
       "2014-03-27 08:30:00  3.485924  22.08                                    NaN   \n",
       "2014-03-27 08:45:00  3.485924  23.16                                    NaN   \n",
       "\n",
       "variable            Producción Diaria Sector Arroyuelo  \\\n",
       "unit                                                m³   \n",
       "timestamp                                                \n",
       "2014-03-27 08:15:00                                NaN   \n",
       "2014-03-27 08:30:00                                NaN   \n",
       "2014-03-27 08:45:00                                NaN   \n",
       "\n",
       "variable            Q Mín. Diario Sector Arroyuelo  \\\n",
       "unit                                            m³   \n",
       "timestamp                                            \n",
       "2014-03-27 08:15:00                            NaN   \n",
       "2014-03-27 08:30:00                            NaN   \n",
       "2014-03-27 08:45:00                            NaN   \n",
       "\n",
       "variable            Q Máx. Diario Sector Arroyuelo  \\\n",
       "unit                                          m³/h   \n",
       "timestamp                                            \n",
       "2014-03-27 08:15:00                            NaN   \n",
       "2014-03-27 08:30:00                            NaN   \n",
       "2014-03-27 08:45:00                            NaN   \n",
       "\n",
       "variable            Q Noche Diario Sector Arroyuelo  \n",
       "unit                                           m³/h  \n",
       "timestamp                                            \n",
       "2014-03-27 08:15:00                             NaN  \n",
       "2014-03-27 08:30:00                             NaN  \n",
       "2014-03-27 08:45:00                             NaN  "
      ]
     },
     "execution_count": 9,
     "metadata": {},
     "output_type": "execute_result"
    }
   ],
   "source": [
    "data.head(3)"
   ]
  },
  {
   "cell_type": "markdown",
   "metadata": {},
   "source": [
    "---"
   ]
  },
  {
   "cell_type": "markdown",
   "metadata": {},
   "source": [
    "## Comrpobación de los registros datados"
   ]
  },
  {
   "cell_type": "markdown",
   "metadata": {},
   "source": [
    "Para entender mejor los datos proporcionados, procedemos con el estudio de los datados del registro:"
   ]
  },
  {
   "cell_type": "code",
   "execution_count": 10,
   "metadata": {},
   "outputs": [],
   "source": [
    "df = tt[1].reset_index(level=0)"
   ]
  },
  {
   "cell_type": "code",
   "execution_count": 11,
   "metadata": {},
   "outputs": [
    {
     "name": "stdout",
     "output_type": "stream",
     "text": [
      "Fecha inicial:\t 2014-03-27 08:15:00\n",
      "Fecha final:\t 2019-11-08 07:00:00\n"
     ]
    }
   ],
   "source": [
    "print('Fecha inicial:\\t',df['timestamp'].min())\n",
    "print('Fecha final:\\t', df['timestamp'].max())"
   ]
  },
  {
   "cell_type": "markdown",
   "metadata": {},
   "source": [
    "Buscamos si existe cambios de hora de verano en los datos:"
   ]
  },
  {
   "cell_type": "code",
   "execution_count": 12,
   "metadata": {},
   "outputs": [],
   "source": [
    "dates_spring = [\n",
    "    '2014/03/30 01:30', '2014/03/30 03:00',\n",
    "    '2015/03/29 01:30', '2015/03/29 03:00',\n",
    "    '2016/03/27 01:30', '2016/03/27 03:00',\n",
    "    '2017/03/26 01:30', '2017/03/26 03:00',\n",
    "    '2018/03/25 01:30', '2018/03/25 03:00',\n",
    "    '2019/03/31 01:30', '2019/03/31 03:00'\n",
    "]"
   ]
  },
  {
   "cell_type": "markdown",
   "metadata": {},
   "source": [
    "Mostramos los cambios de hora del mes de marzo, donde se añade una hora al reloj:"
   ]
  },
  {
   "cell_type": "code",
   "execution_count": 13,
   "metadata": {},
   "outputs": [
    {
     "name": "stdout",
     "output_type": "stream",
     "text": [
      "##############################\n",
      "0.0\n",
      "261   2014-03-30 01:30:00\n",
      "262   2014-03-30 01:45:00\n",
      "263   2014-03-30 03:00:00\n",
      "##############################\n",
      "1.0\n",
      "34054   2015-03-29 01:30:00\n",
      "34055   2015-03-29 01:45:00\n",
      "34056   2015-03-29 03:00:00\n",
      "##############################\n",
      "2.0\n",
      "62815   2016-03-27 01:30:00\n",
      "62816   2016-03-27 01:45:00\n",
      "62817   2016-03-27 03:00:00\n",
      "##############################\n",
      "3.0\n",
      "95506   2017-03-26 01:30:00\n",
      "95507   2017-03-26 01:45:00\n",
      "95508   2017-03-26 03:00:00\n",
      "##############################\n",
      "4.0\n",
      "126835   2018-03-25 01:30:00\n",
      "126836   2018-03-25 01:45:00\n",
      "126837   2018-03-25 03:00:00\n",
      "##############################\n",
      "5.0\n",
      "162442   2019-03-31 01:30:00\n",
      "162443   2019-03-31 01:45:00\n",
      "162444   2019-03-31 03:00:00\n",
      "##############################\n"
     ]
    }
   ],
   "source": [
    "print('##############################')\n",
    "\n",
    "for i in np.arange(0, len(dates_spring), 2):\n",
    "    print(i/2)\n",
    "    print(\n",
    "    df['timestamp'][(df['timestamp'] >= dates_spring[i] ) &\n",
    "    (df['timestamp'] <= dates_spring[i+1] )].to_string()\n",
    "    )\n",
    "    print('##############################')"
   ]
  },
  {
   "cell_type": "markdown",
   "metadata": {},
   "source": [
    "Encontramos los saltos de cambio de hora de marzo. Podemos hacer un proceso similar para el cambio de hora de otoño:"
   ]
  },
  {
   "cell_type": "code",
   "execution_count": 14,
   "metadata": {},
   "outputs": [],
   "source": [
    "dates_fall = [\n",
    "    '2014/10/26 01:30', '2014/10/26 03:00',\n",
    "    '2015/10/25 01:30', '2015/10/25 03:00',\n",
    "    '2016/10/30 01:30', '2016/10/30 03:00',\n",
    "    '2017/10/29 01:30', '2017/10/29 03:00',\n",
    "    '2018/10/28 01:30', '2018/10/28 03:00',\n",
    "    '2019/10/27 01:30', '2019/10/27 03:00'\n",
    "]"
   ]
  },
  {
   "cell_type": "code",
   "execution_count": 15,
   "metadata": {},
   "outputs": [
    {
     "name": "stdout",
     "output_type": "stream",
     "text": [
      "##############################\n",
      "2014\n",
      "                timestamp  Presión Instantánea Sector Arroyuelo\n",
      "20088 2014-10-26 01:30:00                              3.587701\n",
      "20089 2014-10-26 01:45:00                              3.613184\n",
      "20090 2014-10-26 02:00:00                              3.613184\n",
      "20091 2014-10-26 02:15:00                              3.625849\n",
      "20092 2014-10-26 02:30:00                              3.625849\n",
      "20093 2014-10-26 02:45:00                              3.613184\n",
      "20094 2014-10-26 02:00:00                              3.638666\n",
      "20095 2014-10-26 02:15:00                              3.651331\n",
      "20096 2014-10-26 02:30:00                              3.625849\n",
      "20097 2014-10-26 02:45:00                              3.625849\n",
      "20098 2014-10-26 03:00:00                              3.638666\n",
      "##############################\n",
      "2015\n",
      "                timestamp  Presión Instantánea Sector Arroyuelo\n",
      "48436 2015-10-25 01:30:00                              3.663996\n",
      "48437 2015-10-25 01:45:00                              3.689479\n",
      "48438 2015-10-25 02:00:00                              3.689479\n",
      "48439 2015-10-25 02:15:00                              3.663996\n",
      "48440 2015-10-25 02:30:00                              3.663996\n",
      "48441 2015-10-25 02:45:00                              3.676814\n",
      "48442 2015-10-25 02:00:00                              3.702296\n",
      "48443 2015-10-25 02:15:00                              3.676814\n",
      "48444 2015-10-25 02:30:00                              3.689479\n",
      "48445 2015-10-25 02:45:00                              3.689479\n",
      "48446 2015-10-25 03:00:00                              3.714962\n",
      "##############################\n",
      "2016\n",
      "                timestamp  Presión Instantánea Sector Arroyuelo\n",
      "82594 2016-10-30 01:30:00                              3.765774\n",
      "82595 2016-10-30 01:45:00                              3.727627\n",
      "82596 2016-10-30 02:00:00                              3.740444\n",
      "82597 2016-10-30 02:15:00                              3.765774\n",
      "82598 2016-10-30 02:30:00                              3.753109\n",
      "82599 2016-10-30 02:45:00                              3.727627\n",
      "82600 2016-10-30 03:00:00                              3.753109\n",
      "##############################\n",
      "2017\n",
      "                 timestamp  Presión Instantánea Sector Arroyuelo\n",
      "112725 2017-10-29 01:30:00                                   0.0\n",
      "112726 2017-10-29 01:45:00                                   0.0\n",
      "112727 2017-10-29 02:00:00                                   0.0\n",
      "112728 2017-10-29 02:15:00                                   0.0\n",
      "112729 2017-10-29 02:30:00                                   0.0\n",
      "112730 2017-10-29 02:45:00                                   0.0\n",
      "112731 2017-10-29 03:00:00                                   0.0\n",
      "##############################\n",
      "2018\n",
      "                 timestamp  Presión Instantánea Sector Arroyuelo\n",
      "147659 2018-10-28 01:30:00                                   0.0\n",
      "147660 2018-10-28 01:45:00                                   0.0\n",
      "147661 2018-10-28 02:00:00                                   0.0\n",
      "147662 2018-10-28 02:15:00                                   0.0\n",
      "147663 2018-10-28 02:30:00                                   0.0\n",
      "147664 2018-10-28 02:45:00                                   0.0\n",
      "147665 2018-10-28 03:00:00                                   0.0\n",
      "##############################\n",
      "2019\n",
      "                 timestamp  Presión Instantánea Sector Arroyuelo\n",
      "182593 2019-10-27 01:30:00                                   0.0\n",
      "182594 2019-10-27 01:45:00                                   0.0\n",
      "182595 2019-10-27 02:00:00                                   0.0\n",
      "182596 2019-10-27 02:15:00                                   0.0\n",
      "182597 2019-10-27 02:30:00                                   0.0\n",
      "182598 2019-10-27 02:45:00                                   0.0\n",
      "182599 2019-10-27 03:00:00                                   0.0\n",
      "##############################\n"
     ]
    }
   ],
   "source": [
    "print('##############################')\n",
    "\n",
    "for i in np.arange(0, len(dates_fall), 2):\n",
    "    print(int(i/2) + 2014)\n",
    "    print(\n",
    "   df[(df['timestamp'] >= dates_fall[i] ) &\n",
    "    (df['timestamp'] <= dates_fall[i+1] )].to_string()\n",
    "    )\n",
    "    print('##############################')"
   ]
  },
  {
   "cell_type": "markdown",
   "metadata": {},
   "source": [
    "Para este caso, vemos que sólo en 2014 y en 2015 se cambia una hora menos el reloj. Esto nos puede llevar a pensar que durante el periodo de tiempo de recogida de los datos, el sistema para datarlos, cambió su zona horaria a una que no tenga horario de verano. Sin embargo, podemos saber que esto no es cierto cuando consideramos que los cambios de hora de primavera sí han tenido lugar durante el periodo completo de recogida de datos."
   ]
  },
  {
   "cell_type": "markdown",
   "metadata": {},
   "source": [
    "Comprobamos que no aparecen fechas duplicadas en todo el dataset:"
   ]
  },
  {
   "cell_type": "code",
   "execution_count": 16,
   "metadata": {},
   "outputs": [
    {
     "data": {
      "text/plain": [
       "20090   2014-10-26 02:00:00\n",
       "20091   2014-10-26 02:15:00\n",
       "20092   2014-10-26 02:30:00\n",
       "20093   2014-10-26 02:45:00\n",
       "20094   2014-10-26 02:00:00\n",
       "20095   2014-10-26 02:15:00\n",
       "20096   2014-10-26 02:30:00\n",
       "20097   2014-10-26 02:45:00\n",
       "48438   2015-10-25 02:00:00\n",
       "48439   2015-10-25 02:15:00\n",
       "48440   2015-10-25 02:30:00\n",
       "48441   2015-10-25 02:45:00\n",
       "48442   2015-10-25 02:00:00\n",
       "48443   2015-10-25 02:15:00\n",
       "48444   2015-10-25 02:30:00\n",
       "48445   2015-10-25 02:45:00\n",
       "Name: timestamp, dtype: datetime64[ns]"
      ]
     },
     "execution_count": 16,
     "metadata": {},
     "output_type": "execute_result"
    }
   ],
   "source": [
    "df['timestamp'][\n",
    "    df['timestamp'].duplicated(keep = False)\n",
    "]"
   ]
  },
  {
   "cell_type": "markdown",
   "metadata": {},
   "source": [
    "Sólo encontramos duplicados de los cambios de hora del mes de octubre de 2014 y 2015. Esto sugiere que el cambio de hora no se ha producido (incluso en una fecho o hora distinta a la establecida), o los datos de una hora no están registrados."
   ]
  },
  {
   "cell_type": "markdown",
   "metadata": {},
   "source": [
    "---"
   ]
  },
  {
   "cell_type": "markdown",
   "metadata": {},
   "source": [
    "# Completitud de los datos"
   ]
  },
  {
   "cell_type": "markdown",
   "metadata": {},
   "source": [
    "Comprobemos visualmente la falta de datos que se debe a la falta de registros durante el periodo de recopilación de datos."
   ]
  },
  {
   "cell_type": "code",
   "execution_count": 17,
   "metadata": {},
   "outputs": [],
   "source": [
    "df['diff'] = df['timestamp'].diff()/np.timedelta64(1,'h')\n",
    "df['diff'] += -0.25\n",
    "df.at[df['diff'] > 3.0, 'diff'] = np.NaN"
   ]
  },
  {
   "cell_type": "markdown",
   "metadata": {},
   "source": [
    "En las siguientes gráficas representamos los intervalos de tiempo de los registros. Los puntos por encima del eje de coordenadas corresponden a saltos positivos de tiempo superiores al salto típico entre dos puntos de tiempo contiguos (15 min). Por debajo del eje, corresponden con saltos negativos."
   ]
  },
  {
   "cell_type": "code",
   "execution_count": 38,
   "metadata": {},
   "outputs": [
    {
     "data": {
      "image/png": "[encoded data removed]",
      "text/plain": [
       "<Figure size 864x1382.4 with 6 Axes>"
      ]
     },
     "metadata": {
      "needs_background": "light"
     },
     "output_type": "display_data"
    }
   ],
   "source": [
    "fig, axs = plt.subplots(6,1, figsize = (12,8/5*12))\n",
    "\n",
    "for j, i in enumerate(np.arange(2014,2020)):\n",
    "    df[\n",
    "        (str(i) <= df['timestamp']) &\n",
    "        (df['timestamp'] < str(i+1))\n",
    "    ].plot(x = 'timestamp', y = 'diff', ylim = (-1,2.5), ax = axs[j])\n",
    "    axs[j].set_ylabel(r'$\\Delta t (h)$')\n",
    "    axs[j].set_xlabel('')\n",
    "#     axs[j].set_title(i)\n",
    "    axs[j].grid()\n",
    "    axs[j].get_legend().remove()\n",
    "\n",
    "axs[0].set_xlim(('2014-01-01', '2015-01-01'))\n",
    "axs[-1].set_xlim(('2019-01-01', '2020-01-01'))\n",
    "\n",
    "plt.show()\n",
    "fig.savefig(fig_dir + \"faltan_fechas.pdf\")"
   ]
  },
  {
   "cell_type": "markdown",
   "metadata": {},
   "source": [
    "Encontramos que existen sólo dos saltos negativos, uno en 2014 y otro en 2015 correspondientes  a los cambios de hora en octubre de esos años. Observamos que ningún otro salto negativo se ha dado y por lo tanto, no podemos determinar con claridad cuando el reloj decidió cambiar al horario de invierno. Algunos de los intervalos son muy grandes y hubieran complicado la visualización del resto, los intervalos superiores a 3 horas han sido omitidos. Se pueden seguir observando cuando no aparecen datos en segmentos del eje de coordenadas."
   ]
  },
  {
   "cell_type": "markdown",
   "metadata": {},
   "source": [
    "Intentamos visualizar mejor la distribución de los datos. Obsérvese en la siguiente figura los espacios sin registros (regiones blancas):"
   ]
  },
  {
   "cell_type": "code",
   "execution_count": 19,
   "metadata": {},
   "outputs": [
    {
     "data": {
      "text/plain": [
       "<matplotlib.axes._subplots.AxesSubplot at 0x208a7ea6fc8>"
      ]
     },
     "execution_count": 19,
     "metadata": {},
     "output_type": "execute_result"
    },
    {
     "name": "stderr",
     "output_type": "stream",
     "text": [
      "C:\\Users\\jalonso\\Anaconda3\\envs\\mountain\\lib\\site-packages\\IPython\\core\\pylabtools.py:132: UserWarning: This figure includes Axes that are not compatible with tight_layout, so results might be incorrect.\n",
      "  fig.canvas.print_figure(bytes_io, **kw)\n"
     ]
    },
    {
     "data": {
      "image/png": "[encoded data removed]",
      "text/plain": [
       "<Figure size 1800x720 with 2 Axes>"
      ]
     },
     "metadata": {
      "needs_background": "light"
     },
     "output_type": "display_data"
    }
   ],
   "source": [
    "%matplotlib inline\n",
    "\n",
    "dr = pd.date_range(\n",
    "start = df['timestamp'].min(),\n",
    "end = df['timestamp'].max(),\n",
    "freq = '15T')\n",
    "\n",
    "# X = data.drop_duplicates(subset = 'timestamp', keep = 'last').set_index('timestamp').reindex(dr, fill_value = np.NaN)\n",
    "X = data.reset_index(level=0).droplevel('unit', axis=1).drop_duplicates(subset = 'timestamp', keep = 'last').set_index('timestamp').reindex(dr, fill_value = np.NaN)\n",
    "msno.matrix(X)"
   ]
  },
  {
   "cell_type": "markdown",
   "metadata": {},
   "source": [
    "Observamos tanto en la figura superior como en la inferior que las variables `Pi` y `Qi` son muy abundantes aunque existen fechas donde no hay datos. El resto de variables son diarias, al contrario que la presión y el caudal que se recogen cada 15 minutos. Representamos estas variables por sí solas y encontramos que tienen la misma frecuencia y no se aprecian saltos grandes en el tiempo."
   ]
  },
  {
   "cell_type": "code",
   "execution_count": 20,
   "metadata": {},
   "outputs": [
    {
     "data": {
      "text/plain": [
       "<matplotlib.axes._subplots.AxesSubplot at 0x208a7f39208>"
      ]
     },
     "execution_count": 20,
     "metadata": {},
     "output_type": "execute_result"
    },
    {
     "data": {
      "image/png": "[encoded data removed]",
      "text/plain": [
       "<Figure size 1800x720 with 2 Axes>"
      ]
     },
     "metadata": {
      "needs_background": "light"
     },
     "output_type": "display_data"
    }
   ],
   "source": [
    "msno.matrix(X.iloc[:,3:].dropna(how = 'all'))"
   ]
  },
  {
   "cell_type": "markdown",
   "metadata": {},
   "source": [
    "En la próxima figura representamos la cantidad relativa de puntos temporales que no están registrados por año. Encontramos el 2015 es el año en que se perdieron más datos. Por otro lado, 2018 y 2019 son los años con muy poca falta de datos (menos del 1%). En el próximo anexo veremos que todos los datos de 2018 y 2019 son 0, lo que explica que falten pocos datos."
   ]
  },
  {
   "cell_type": "code",
   "execution_count": 22,
   "metadata": {},
   "outputs": [
    {
     "data": {
      "image/png": "[encoded data removed]",
      "text/plain": [
       "<Figure size 288x384 with 2 Axes>"
      ]
     },
     "metadata": {
      "needs_background": "light"
     },
     "output_type": "display_data"
    }
   ],
   "source": [
    "yy = []\n",
    "missing_pi = []\n",
    "missing_qi = []\n",
    "\n",
    "for i in np.arange(2014,2020):\n",
    "    yy.append(i)\n",
    "    X_temp_pi = X[str(i)].loc[:, 'P']\n",
    "    X_temp_qi = X[str(i)].loc[:, 'Q']\n",
    "    missing_pi.append(X_temp_pi.isnull().sum()/X_temp_pi.shape[0])\n",
    "    missing_qi.append(X_temp_qi.isnull().sum()/X_temp_qi.shape[0])\n",
    "    \n",
    "    \n",
    "def percentages(x, pos):\n",
    "    'The two args are the value and tick position'\n",
    "    return '%1.1f%%' % (x * 100)\n",
    "\n",
    "formatter = FuncFormatter(percentages)\n",
    "    \n",
    "fig, axs = plt.subplots(2,1, figsize = (4,8/3*2))\n",
    "\n",
    "for ax, bars, title in zip(axs, [missing_pi, missing_qi], ['Presión instantánea', 'Caudal instantáneo']):\n",
    "\n",
    "    ax.bar(yy, bars)\n",
    "    ax.yaxis.set_major_formatter(formatter)\n",
    "    ax.axhline(X.iloc[:,0].isnull().sum()/X.shape[0], color = 'r')\n",
    "    ax.grid()\n",
    "\n",
    "\n",
    "    ax.set_xlabel('Año')\n",
    "    ax.set_title('Datos: ' + title)\n",
    "plt.show()"
   ]
  },
  {
   "cell_type": "markdown",
   "metadata": {},
   "source": [
    "---"
   ]
  },
  {
   "cell_type": "markdown",
   "metadata": {},
   "source": [
    "# Extracción de las secuencias temporales"
   ]
  },
  {
   "cell_type": "markdown",
   "metadata": {},
   "source": [
    "Procedemos a interpolar los datos para garantizar que los cambios de hora no afecten al número de horas en esos días. \n",
    "\n",
    "Comenzamos por crear una variable `data` que agrupe de nuevo todas las variables en una misma tabla, la diferencia ahora es la línea:\n",
    "```python\n",
    "data = data.merge(table.groupby(pd.Grouper(freq = '15min', label = 'left')).mean(),\n",
    "                  how = 'outer', left_index = True, right_index = True)\n",
    "```\n",
    " donde llamamos al método `groupby` para agrupar aquellos datos con el mismo tiempo y hallar la media de ambas para asignar un valor aproximado."
   ]
  },
  {
   "cell_type": "code",
   "execution_count": 23,
   "metadata": {},
   "outputs": [],
   "source": [
    "# Muestra en pantalla los datos sobre las que se hará media aritmética\n",
    "def gg(x):\n",
    "    if x.shape[0] > 1:\n",
    "        print(x)\n",
    "    return x.mean()"
   ]
  },
  {
   "cell_type": "code",
   "execution_count": 24,
   "metadata": {},
   "outputs": [
    {
     "name": "stdout",
     "output_type": "stream",
     "text": [
      "2014-10-26 02:00:00    2.039152e+06\n",
      "2014-10-26 02:00:00    2.039172e+06\n",
      "Name: Lect. Horaria Contador Sector Arroyuelo, dtype: float64\n",
      "2014-10-26 02:15:00    2.039157e+06\n",
      "2014-10-26 02:15:00    2.039176e+06\n",
      "Name: Lect. Horaria Contador Sector Arroyuelo, dtype: float64\n",
      "2014-10-26 02:30:00    2.039162e+06\n",
      "2014-10-26 02:30:00    2.039180e+06\n",
      "Name: Lect. Horaria Contador Sector Arroyuelo, dtype: float64\n",
      "2014-10-26 02:45:00    2.039167e+06\n",
      "2014-10-26 02:45:00    2.039185e+06\n",
      "Name: Lect. Horaria Contador Sector Arroyuelo, dtype: float64\n",
      "2015-10-25 02:00:00    255074.428054\n",
      "2015-10-25 02:00:00    255096.088056\n",
      "Name: Lect. Horaria Contador Sector Arroyuelo, dtype: float64\n",
      "2015-10-25 02:15:00    255079.818055\n",
      "2015-10-25 02:15:00    255101.288056\n",
      "Name: Lect. Horaria Contador Sector Arroyuelo, dtype: float64\n",
      "2015-10-25 02:30:00    255085.298055\n",
      "2015-10-25 02:30:00    255105.708057\n",
      "Name: Lect. Horaria Contador Sector Arroyuelo, dtype: float64\n",
      "2015-10-25 02:45:00    255090.658055\n",
      "2015-10-25 02:45:00    255110.028057\n",
      "Name: Lect. Horaria Contador Sector Arroyuelo, dtype: float64\n",
      "2014-10-26 02:00:00    3.613184\n",
      "2014-10-26 02:00:00    3.638666\n",
      "Name: Presión Instantánea Sector Arroyuelo, dtype: float64\n",
      "2014-10-26 02:15:00    3.625849\n",
      "2014-10-26 02:15:00    3.651331\n",
      "Name: Presión Instantánea Sector Arroyuelo, dtype: float64\n",
      "2014-10-26 02:30:00    3.625849\n",
      "2014-10-26 02:30:00    3.625849\n",
      "Name: Presión Instantánea Sector Arroyuelo, dtype: float64\n",
      "2014-10-26 02:45:00    3.613184\n",
      "2014-10-26 02:45:00    3.625849\n",
      "Name: Presión Instantánea Sector Arroyuelo, dtype: float64\n",
      "2015-10-25 02:00:00    3.689479\n",
      "2015-10-25 02:00:00    3.702296\n",
      "Name: Presión Instantánea Sector Arroyuelo, dtype: float64\n",
      "2015-10-25 02:15:00    3.663996\n",
      "2015-10-25 02:15:00    3.676814\n",
      "Name: Presión Instantánea Sector Arroyuelo, dtype: float64\n",
      "2015-10-25 02:30:00    3.663996\n",
      "2015-10-25 02:30:00    3.689479\n",
      "Name: Presión Instantánea Sector Arroyuelo, dtype: float64\n",
      "2015-10-25 02:45:00    3.676814\n",
      "2015-10-25 02:45:00    3.689479\n",
      "Name: Presión Instantánea Sector Arroyuelo, dtype: float64\n",
      "2014-10-26 02:00:00    22.719999\n",
      "2014-10-26 02:00:00    18.959999\n",
      "Name: Q Inst. Sector Arroyuelo, dtype: float64\n",
      "2014-10-26 02:15:00    21.279999\n",
      "2014-10-26 02:15:00    17.799999\n",
      "Name: Q Inst. Sector Arroyuelo, dtype: float64\n",
      "2014-10-26 02:30:00    19.840000\n",
      "2014-10-26 02:30:00    17.440001\n",
      "Name: Q Inst. Sector Arroyuelo, dtype: float64\n",
      "2014-10-26 02:45:00    19.559999\n",
      "2014-10-26 02:45:00    18.160000\n",
      "Name: Q Inst. Sector Arroyuelo, dtype: float64\n",
      "2015-10-25 02:00:00    22.199999\n",
      "2015-10-25 02:00:00    21.719999\n",
      "Name: Q Inst. Sector Arroyuelo, dtype: float64\n",
      "2015-10-25 02:15:00    21.559999\n",
      "2015-10-25 02:15:00    20.799999\n",
      "Name: Q Inst. Sector Arroyuelo, dtype: float64\n",
      "2015-10-25 02:30:00    21.92\n",
      "2015-10-25 02:30:00    17.68\n",
      "Name: Q Inst. Sector Arroyuelo, dtype: float64\n",
      "2015-10-25 02:45:00    21.439999\n",
      "2015-10-25 02:45:00    17.279999\n",
      "Name: Q Inst. Sector Arroyuelo, dtype: float64\n"
     ]
    }
   ],
   "source": [
    "dates = pd.date_range(start = tt[0].index.min(), end = tt[0].index.max(), freq = '15T')\n",
    "dates.name = 'timestamp'\n",
    "data = pd.DataFrame(index = dates)\n",
    "\n",
    "for table in tt[0:]:\n",
    "    data = data.merge(table.groupby(pd.Grouper(freq = '15min', label = 'left')).agg(gg),\n",
    "                      how = 'outer', left_index = True, right_index = True)\n",
    "    \n",
    "data.rename(columns = translator, inplace = True)\n",
    "micolumns = pd.MultiIndex.from_tuples(list(zip(data.columns.tolist(), index['Unit'])),\n",
    "                                      names=['variable', 'unit'])\n",
    "\n",
    "\n",
    "data.set_axis(micolumns, axis = 1, inplace = True)"
   ]
  },
  {
   "cell_type": "markdown",
   "metadata": {},
   "source": [
    "Comprobamos por inspección visual que los datos que estamos realizando la media tienen sentido y no producen valores inesperados (que sean 0s o valores muy desproporcionados)."
   ]
  },
  {
   "cell_type": "code",
   "execution_count": 25,
   "metadata": {},
   "outputs": [],
   "source": [
    "dst_spring = pd.Series(dates_spring).apply(lambda x: x.split(' ')[0])\n",
    "dst_fall = pd.Series(dates_fall).apply(lambda x: x.split(' ')[0])\n",
    "\n",
    "\n",
    "dt = data[['V', 'P', 'Q']].copy(deep = True).sort_index()"
   ]
  },
  {
   "cell_type": "markdown",
   "metadata": {},
   "source": [
    "Seguidamente, añadimos una hora ficticia para las fechas de marzo, para ello, aproximamos linealmente los datos en la hora adelantada. Aplicamos `linspace` con valores iniciales y finales aquellos próximos al salto de hora, esto se hace para cada variable recogida:"
   ]
  },
  {
   "cell_type": "code",
   "execution_count": 26,
   "metadata": {},
   "outputs": [],
   "source": [
    "ff = lambda x: pd.Series(np.linspace(start = x[0], stop = x[-1], num = len(x)), index = x.index)\n",
    "\n",
    "\n",
    "prev = dst_spring[0] + ' 01:45:00'\n",
    "pos = dst_spring[0] + ' 03:00:00'\n",
    "\n",
    "for date in dst_spring:\n",
    "    prev = date + ' 01:45:00'\n",
    "    pos = date + ' 03:00:00'\n",
    "\n",
    "    if dt[date + ' 02:00:00' : date + ' 02:45:00'].isnull().values.all():\n",
    "        dt[prev : pos].transform(ff , axis = 0, result_type = 'broadcast')"
   ]
  },
  {
   "cell_type": "markdown",
   "metadata": {},
   "source": [
    "Hemos aproximado datos en las fechas de cambio de hora y, simultaneamente, resuelto el problema de solapamiento de las fechas. Este último hito puede llegar a ser más importante porque evitará futuros problemas.\n",
    "\n",
    "Guardamos los datos en un archivo `csv` para más fácil acceso:"
   ]
  },
  {
   "cell_type": "code",
   "execution_count": 27,
   "metadata": {},
   "outputs": [],
   "source": [
    "dt.unstack().reset_index().to_csv(data01 + output_file, index = False)"
   ]
  }
 ],
 "metadata": {
  "kernelspec": {
   "display_name": "Python 3",
   "language": "python",
   "name": "python3"
  },
  "language_info": {
   "codemirror_mode": {
    "name": "ipython",
    "version": 3
   },
   "file_extension": ".py",
   "mimetype": "text/x-python",
   "name": "python",
   "nbconvert_exporter": "python",
   "pygments_lexer": "ipython3",
   "version": "3.7.7"
  }
 },
 "nbformat": 4,
 "nbformat_minor": 4
}
